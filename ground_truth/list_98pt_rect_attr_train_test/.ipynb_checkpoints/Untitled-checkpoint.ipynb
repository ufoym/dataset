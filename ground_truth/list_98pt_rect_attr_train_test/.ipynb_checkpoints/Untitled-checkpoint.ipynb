{
 "cells": [
  {
   "cell_type": "code",
   "execution_count": 1,
   "metadata": {},
   "outputs": [],
   "source": [
    "with open('list_98pt_rect_attr_test.txt', 'r') as f:\n",
    "    lines = f.readlines()"
   ]
  },
  {
   "cell_type": "code",
   "execution_count": 7,
   "metadata": {},
   "outputs": [],
   "source": [
    "info = {}\n",
    "for line in lines:\n",
    "    terms = line.split()\n",
    "    xys = [float(t) for t in terms[:-11]]\n",
    "    rect = [int(t) for t in terms[-11:-7]]\n",
    "    attrs = [int(t) for t in terms[-7:-1]]\n",
    "    fn = terms[-1].strip()\n",
    "    info[fn] = (xys, rect, attrs)"
   ]
  },
  {
   "cell_type": "code",
   "execution_count": null,
   "metadata": {},
   "outputs": [],
   "source": [
    "info = {}\n",
    "for line in lines:\n",
    "    terms = line.split()\n",
    "    xys = [float(t) for t in terms[:-11]]\n",
    "    rect = [int(t) for t in terms[-11:-7]]\n",
    "    attrs = [int(t) for t in terms[-7:-1]]\n",
    "    fn = terms[-1].strip()\n",
    "    info[fn] = (xys, rect, attrs)"
   ]
  },
  {
   "cell_type": "code",
   "execution_count": null,
   "metadata": {},
   "outputs": [],
   "source": []
  }
 ],
 "metadata": {
  "kernelspec": {
   "display_name": "Python 3",
   "language": "python",
   "name": "python3"
  },
  "language_info": {
   "codemirror_mode": {
    "name": "ipython",
    "version": 3
   },
   "file_extension": ".py",
   "mimetype": "text/x-python",
   "name": "python",
   "nbconvert_exporter": "python",
   "pygments_lexer": "ipython3",
   "version": "3.6.9"
  }
 },
 "nbformat": 4,
 "nbformat_minor": 4
}
